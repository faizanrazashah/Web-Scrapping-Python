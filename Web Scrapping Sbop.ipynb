{
 "cells": [
  {
   "cell_type": "code",
   "execution_count": null,
   "id": "a33fffce",
   "metadata": {},
   "outputs": [],
   "source": [
    "import requests\n",
    "from bs4 import BeautifulSoup\n",
    "import pandas as pd\n",
    "from pandas import DataFrame\n",
    "import datetime as dt\n",
    "url = \"https://www.sbp.org.pk/ecodata/index2.asp\"\n",
    "r=requests.get(url)\n",
    "htmlContent = r.content\n",
    "soup = BeautifulSoup(htmlContent, 'html.parser')\n",
    "#anchors = soup.find_all('a')\n",
    "soup"
   ]
  },
  {
   "cell_type": "code",
   "execution_count": null,
   "id": "670260fa",
   "metadata": {},
   "outputs": [],
   "source": [
    "#Calling all the text from td\n",
    "\n",
    "# col=[]\n",
    "# for link in soup.find_all(\"td\"):\n",
    "    \n",
    "#     print(\"Inner Text: {}\".format(link.text))\n",
    "#     print(\"Columns: {}\".format(link.get(\"strong\")))\n",
    "#     col.append(link.text)\n",
    "#     col.append(link.get(\"strong\"))\n"
   ]
  },
  {
   "cell_type": "code",
   "execution_count": null,
   "id": "d15a0006",
   "metadata": {},
   "outputs": [],
   "source": [
    "# col"
   ]
  },
  {
   "cell_type": "code",
   "execution_count": null,
   "id": "ffcf129a",
   "metadata": {},
   "outputs": [],
   "source": [
    "# converted_list = []\n",
    "\n",
    "# for element in col:\n",
    "#     converted_list.append(element.strip())\n",
    "\n",
    "# print(converted_list)"
   ]
  },
  {
   "cell_type": "code",
   "execution_count": null,
   "id": "bcad697b",
   "metadata": {},
   "outputs": [],
   "source": [
    "gdp_table = []\n",
    "\n",
    "for a in soup.find_all(\"strong\"):\n",
    "    gdp_table.append(a.text)"
   ]
  },
  {
   "cell_type": "code",
   "execution_count": null,
   "id": "af56aabd",
   "metadata": {},
   "outputs": [],
   "source": [
    "gdp_table1=gdp_table[0:4]\n",
    "gdp_table1\n"
   ]
  },
  {
   "cell_type": "code",
   "execution_count": null,
   "id": "f3962ca4",
   "metadata": {},
   "outputs": [],
   "source": [
    "# print(gdp_table1,sep='/n')"
   ]
  },
  {
   "cell_type": "code",
   "execution_count": null,
   "id": "05c3b1ea",
   "metadata": {},
   "outputs": [],
   "source": [
    "gdp_table1[3]='Last Updated'\n",
    "# gdp_table1[4]='Data Archive'\n",
    "# gdp_table1[5]='Archive Updated'"
   ]
  },
  {
   "cell_type": "code",
   "execution_count": null,
   "id": "688e1a7f",
   "metadata": {},
   "outputs": [],
   "source": [
    "gdp_table1"
   ]
  },
  {
   "cell_type": "code",
   "execution_count": null,
   "id": "69e46f8a",
   "metadata": {},
   "outputs": [],
   "source": [
    "# Calling all the a and then seperate the description list\n",
    "val = []\n",
    "for b in soup.find_all(\"a\"):\n",
    "    val.append(b.text.strip())\n",
    "val"
   ]
  },
  {
   "cell_type": "code",
   "execution_count": null,
   "id": "477c61b8",
   "metadata": {},
   "outputs": [],
   "source": [
    "# print(val,sep='\\n')\n"
   ]
  },
  {
   "cell_type": "code",
   "execution_count": null,
   "id": "89fc7529",
   "metadata": {},
   "outputs": [],
   "source": [
    "val = list(filter(lambda x: x!= '', val))\n",
    "val = list(filter(lambda y: y!= 'Excel', val))"
   ]
  },
  {
   "cell_type": "code",
   "execution_count": null,
   "id": "8e39f357",
   "metadata": {},
   "outputs": [],
   "source": [
    "val[0:-24]"
   ]
  },
  {
   "cell_type": "code",
   "execution_count": null,
   "id": "907de2d4",
   "metadata": {},
   "outputs": [],
   "source": [
    "# df=DataFrame(data=val,columns=gdp_table1[0:3])"
   ]
  },
  {
   "cell_type": "code",
   "execution_count": null,
   "id": "dd3aa614",
   "metadata": {},
   "outputs": [],
   "source": [
    "# df"
   ]
  },
  {
   "cell_type": "code",
   "execution_count": null,
   "id": "5771498d",
   "metadata": {},
   "outputs": [],
   "source": []
  },
  {
   "cell_type": "code",
   "execution_count": null,
   "id": "28044125",
   "metadata": {},
   "outputs": [],
   "source": [
    "#We make a dataframe and make a col and store the gdp_tabel1 variable in col \n",
    "df = pd.DataFrame({'col':gdp_table1})\n",
    "print (df)"
   ]
  },
  {
   "cell_type": "code",
   "execution_count": null,
   "id": "e4553b46",
   "metadata": {},
   "outputs": [],
   "source": [
    "# The data is in 1 column so we transpose the it\n",
    "df1=df.T\n",
    "df1.columns = gdp_table1 #['a','b','c']\n",
    "df1"
   ]
  },
  {
   "cell_type": "code",
   "execution_count": null,
   "id": "ee6d2d51",
   "metadata": {},
   "outputs": [],
   "source": [
    "# The index shows col so we reset the column first then instead of column we drop 0\n",
    "df2 = df1.reset_index(drop=True)\n",
    "display(df2)\n",
    "df2 = df2.drop(0)\n",
    "df2"
   ]
  },
  {
   "cell_type": "code",
   "execution_count": null,
   "id": "1b91bafc",
   "metadata": {},
   "outputs": [],
   "source": [
    "#Now we have a variable called val. In this variable we have all the text and description so in this for loop \n",
    "#we store the text or title in description column\n",
    "for j in val[0:-24]:\n",
    "    df2= df2.append({'Description': j}, ignore_index=True)"
   ]
  },
  {
   "cell_type": "code",
   "execution_count": null,
   "id": "5f9d4d3a",
   "metadata": {},
   "outputs": [],
   "source": [
    "df2"
   ]
  },
  {
   "cell_type": "code",
   "execution_count": null,
   "id": "bc3410ad",
   "metadata": {},
   "outputs": [],
   "source": [
    "# col1 = col.remove(None)\n",
    "# print(col1)"
   ]
  },
  {
   "cell_type": "code",
   "execution_count": null,
   "id": "6b6da8bd",
   "metadata": {},
   "outputs": [],
   "source": [
    "# we have to scrape dates so that we call all the td and extract text from td and store it in td\n",
    "data=[]\n",
    "for c in soup.find_all(\"td\"):\n",
    "    data.append(c.text.strip())\n",
    "data  "
   ]
  },
  {
   "cell_type": "code",
   "execution_count": null,
   "id": "122c8e2b",
   "metadata": {},
   "outputs": [],
   "source": [
    "# data1 = [_.replace('\\n', ' ') for _ in data]\n",
    "# data1 = [_.replace('\\xa0',' ') for _ in data]\n",
    "# data1 = [_.replace('Frequency',' ') for _ in data1]\n",
    "# data1"
   ]
  },
  {
   "cell_type": "code",
   "execution_count": null,
   "id": "46770917",
   "metadata": {},
   "outputs": [],
   "source": [
    "#  data1 = [_.replace('\\n', ' ') for _ in data1]\n",
    "#     #Now we need dates that is in text form so for that purpose we used for loops and striptime..\n",
    "#     # The usage of strip time is that it scrape all the dates from the text\n",
    "#     for _ in data1:\n",
    "#         try:\n",
    "#             data_date = dt.datetime.strptime(_, '%b %d, %Y')\n",
    "#             print(data_date.date())\n",
    "#         except ValueError:\n",
    "#             continue\n",
    "\n",
    "#Seperating the date from the abo\n",
    "datee = []\n",
    "for _ in data:\n",
    "    try:\n",
    "        data_date = dt.datetime.strptime(_, '%b %d, %Y')\n",
    "#         print(data_date.date())\n",
    "        data3=data_date.date()\n",
    "        print(data3)\n",
    "        datee.append(data_date.date())\n",
    "        datee\n",
    "    except ValueError:\n",
    "        continue"
   ]
  },
  {
   "cell_type": "code",
   "execution_count": null,
   "id": "94b0766f",
   "metadata": {},
   "outputs": [],
   "source": [
    "datee"
   ]
  },
  {
   "cell_type": "code",
   "execution_count": null,
   "id": "9d425807",
   "metadata": {},
   "outputs": [],
   "source": [
    "# df4=df2.iloc[:,[3]]\n",
    "# df4"
   ]
  },
  {
   "cell_type": "code",
   "execution_count": null,
   "id": "0829532a",
   "metadata": {},
   "outputs": [],
   "source": []
  },
  {
   "cell_type": "code",
   "execution_count": null,
   "id": "e4bcd8dc",
   "metadata": {},
   "outputs": [],
   "source": [
    "# for a in datee:\n",
    "#     df3=df2.append({'Last Updated': a}, ignore_index=True)\n",
    "#     print(df3)\n",
    "for k in datee:\n",
    "    print(k)"
   ]
  },
  {
   "cell_type": "code",
   "execution_count": null,
   "id": "5a330702",
   "metadata": {
    "scrolled": true
   },
   "outputs": [],
   "source": [
    "# Using todays date function\n",
    "\n",
    "import datetime\n",
    "now = datetime.datetime.today()\n",
    "print (\"Current date : \")\n",
    "today_date=now.strftime(\"%Y-%m-%d\")\n",
    "#%Y-\n",
    "print (today_date)\n"
   ]
  },
  {
   "cell_type": "code",
   "execution_count": null,
   "id": "38de9c99",
   "metadata": {},
   "outputs": [],
   "source": [
    "# datetime.datetime.today().strftime(\"%Y-%m-%d\")"
   ]
  },
  {
   "cell_type": "code",
   "execution_count": null,
   "id": "2e7e1519",
   "metadata": {},
   "outputs": [],
   "source": [
    "#Converting all the list into String format because when we use statments it gives an error\n",
    "str1=' '.join(str(e) for e in datee)\n",
    "str1"
   ]
  },
  {
   "cell_type": "code",
   "execution_count": null,
   "id": "509bf72a",
   "metadata": {},
   "outputs": [],
   "source": [
    "# d=pd.date_range(start='16-11-2021',end='16-11-2021')"
   ]
  },
  {
   "cell_type": "code",
   "execution_count": null,
   "id": "c0b24d1a",
   "metadata": {},
   "outputs": [],
   "source": [
    "# z=d.strftime(\"%Y-%m-%d\")\n",
    "# z"
   ]
  },
  {
   "cell_type": "code",
   "execution_count": null,
   "id": "eba31572",
   "metadata": {},
   "outputs": [],
   "source": [
    "df6 = pd.DataFrame({'All Dates':datee})\n",
    "print (df6)"
   ]
  },
  {
   "cell_type": "code",
   "execution_count": null,
   "id": "8bd5a382",
   "metadata": {},
   "outputs": [],
   "source": [
    "# td=[]\n",
    "# for n in z:\n",
    "#     df7 = pd.DataFrame({'Today Dates':n},index=[1])\n",
    "#     print (df7)"
   ]
  },
  {
   "cell_type": "code",
   "execution_count": null,
   "id": "96c5dfe2",
   "metadata": {},
   "outputs": [],
   "source": [
    "# if str1 < today_date:\n",
    "#     print(\"true\")\n",
    "# else:\n",
    "#     print(\"false\")"
   ]
  },
  {
   "cell_type": "raw",
   "id": "baa4e04b",
   "metadata": {},
   "source": []
  },
  {
   "cell_type": "code",
   "execution_count": null,
   "id": "f10ef7d7",
   "metadata": {},
   "outputs": [],
   "source": [
    "# df9 = pd.DataFrame({'col':datee})\n",
    "# df10 = df9.reset_index(drop=True)\n",
    "# display(df10)\n",
    "# df10= df10.drop(0)\n",
    "# df10"
   ]
  },
  {
   "cell_type": "code",
   "execution_count": null,
   "id": "94333a57",
   "metadata": {},
   "outputs": [],
   "source": [
    "result = pd.merge(df2, df6, left_index=True,right_index=True)\n",
    "result"
   ]
  },
  {
   "cell_type": "code",
   "execution_count": null,
   "id": "de094bfb",
   "metadata": {},
   "outputs": [],
   "source": [
    "# abc=pd.merge(result,df7, left_index=True,right_index=True)\n",
    "# abc"
   ]
  },
  {
   "cell_type": "code",
   "execution_count": null,
   "id": "5f08e6e4",
   "metadata": {},
   "outputs": [],
   "source": [
    "# cols = [header.text for header in soup.find_all(\"strong\")]\n",
    "\n",
    "# converted_list = []\n",
    "# for element in cols[0:6]:\n",
    "#     converted_list.append(element.replace('\\n',' '))\n",
    "# converted_list"
   ]
  },
  {
   "cell_type": "code",
   "execution_count": null,
   "id": "547e4cb0",
   "metadata": {},
   "outputs": [],
   "source": [
    "# all_rows = [selected_row1, selected_row2, selected_row3, selected_row4, selected_row5, selected_row6]"
   ]
  },
  {
   "cell_type": "code",
   "execution_count": 1,
   "id": "1a82ddec",
   "metadata": {},
   "outputs": [],
   "source": [
    "from selenium import webdriver\n",
    "from bs4 import BeautifulSoup\n",
    "import pandas as pd"
   ]
  },
  {
   "cell_type": "code",
   "execution_count": 2,
   "id": "3e4c441a",
   "metadata": {},
   "outputs": [],
   "source": [
    "import warnings\n",
    "warnings.filterwarnings(\"ignore\")"
   ]
  },
  {
   "cell_type": "code",
   "execution_count": 3,
   "id": "62094394",
   "metadata": {},
   "outputs": [],
   "source": [
    "driver = webdriver.Chrome('/Users/kkc/Projects_Jupyter/chromedriver_win32/chromedriver')"
   ]
  },
  {
   "cell_type": "code",
   "execution_count": 6,
   "id": "f2ac7783",
   "metadata": {},
   "outputs": [],
   "source": [
    "driver.get('https://www.sbp.org.pk/ecodata/index2.asp')\n",
    "content = driver.page_source\n",
    "soup = BeautifulSoup(content)"
   ]
  },
  {
   "cell_type": "code",
   "execution_count": 5,
   "id": "e6b40af3",
   "metadata": {},
   "outputs": [],
   "source": [
    "table = soup.find_all(\"table\")"
   ]
  },
  {
   "cell_type": "code",
   "execution_count": 7,
   "id": "4e095f4b",
   "metadata": {},
   "outputs": [
    {
     "data": {
      "text/plain": [
       "['Description',\n",
       " 'Frequency',\n",
       " 'Other Formats',\n",
       " 'LastUpdated',\n",
       " 'DataArchive',\n",
       " 'ArchiveUpdated']"
      ]
     },
     "execution_count": 7,
     "metadata": {},
     "output_type": "execute_result"
    }
   ],
   "source": [
    "cols = [header.text.replace(\"\\n\", \"\").strip() for header in table[6].find_all(\"td\")[34:40]]\n",
    "cols"
   ]
  },
  {
   "cell_type": "code",
   "execution_count": 8,
   "id": "efe2a120",
   "metadata": {},
   "outputs": [],
   "source": [
    "row = [row1.text.replace(\"\\n\", \"\").strip() for row1 in table[6].find_all(\"td\")]"
   ]
  },
  {
   "cell_type": "code",
   "execution_count": 9,
   "id": "d5d04b12",
   "metadata": {},
   "outputs": [
    {
     "name": "stdout",
     "output_type": "stream",
     "text": [
      "[118, 124, 130, 136, 142, 148, 154, 160, 166, 172, 178, 184, 190, 196, 202, 208, 214, 220]\n"
     ]
    }
   ],
   "source": [
    "lst = []\n",
    "num = 112\n",
    "for i in range(18):\n",
    "    num += 6\n",
    "    lst.append(num)\n",
    "print(lst)"
   ]
  },
  {
   "cell_type": "code",
   "execution_count": 10,
   "id": "a23654c7",
   "metadata": {},
   "outputs": [],
   "source": [
    "indices = [40, 46, 52, 58, 70, 76, 82, 88, 94, 107, 113, 119, 125, 131, 137, 143, 149, 155, 161, 167, 173, 179, 185, 191, 197, 203, 209, 215]\n",
    "selected_row1 = []\n",
    "\n",
    "for index in indices:\n",
    "    selected_row1.append(row[index])"
   ]
  },
  {
   "cell_type": "code",
   "execution_count": 11,
   "id": "181c08e8",
   "metadata": {},
   "outputs": [],
   "source": [
    "indices = [41, 47, 53, 59, 71, 77, 83, 89, 95, 108, 114, 120, 126, 132, 138, 144, 150, 156, 162, 168, 174, 180, 186, 192, 198, 204, 210, 216]\n",
    "selected_row2 = []\n",
    "\n",
    "for index in indices:\n",
    "    selected_row2.append(row[index])"
   ]
  },
  {
   "cell_type": "code",
   "execution_count": 12,
   "id": "af8ff0f2",
   "metadata": {},
   "outputs": [],
   "source": [
    "indices = [42, 48, 54, 60, 72, 78, 84, 90, 96, 109, 115, 121, 127, 133, 139, 145, 151, 157, 163, 169, 175, 181, 187, 193, 199, 205, 211, 217]\n",
    "selected_row3 = []\n",
    "\n",
    "for index in indices:\n",
    "    selected_row3.append(row[index])"
   ]
  },
  {
   "cell_type": "code",
   "execution_count": 13,
   "id": "b2034c5f",
   "metadata": {},
   "outputs": [],
   "source": [
    "indices = [43, 49, 55, 61, 73, 79, 85, 91, 97, 110, 116, 122, 128, 134, 140, 146, 152, 158, 164, 170, 176, 182, 188, 194, 200, 206, 212, 218]\n",
    "selected_row4 = []\n",
    "\n",
    "for index in indices:\n",
    "    selected_row4.append(row[index])"
   ]
  },
  {
   "cell_type": "code",
   "execution_count": 14,
   "id": "2b55bce5",
   "metadata": {},
   "outputs": [],
   "source": [
    "indices = [44, 50, 56, 62, 74, 80, 86, 92, 98, 111, 117, 123, 129, 135, 141, 147, 153, 159, 165, 171, 177, 183, 189, 195, 201, 207, 213, 219]\n",
    "selected_row5 = []\n",
    "\n",
    "for index in indices:\n",
    "    selected_row5.append(row[index])"
   ]
  },
  {
   "cell_type": "code",
   "execution_count": 15,
   "id": "ba3ab0a6",
   "metadata": {},
   "outputs": [],
   "source": [
    "indices = [45, 51, 57, 63, 75, 81, 87, 93, 99, 112, 118, 124, 130, 136, 142, 148, 154, 160, 166, 172, 178, 184, 190, 196, 202, 208, 214, 220]\n",
    "selected_row6 = []\n",
    "\n",
    "for index in indices:\n",
    "    selected_row6.append(row[index])"
   ]
  },
  {
   "cell_type": "code",
   "execution_count": 16,
   "id": "793cf5cb",
   "metadata": {},
   "outputs": [],
   "source": [
    "data = pd.DataFrame({'Description': selected_row1, 'Frequency': selected_row2, 'Other Formats': selected_row3, 'LastUpdated': selected_row4, 'DataArchive':selected_row5,'ArchiveUpdated':selected_row6})"
   ]
  },
  {
   "cell_type": "code",
   "execution_count": 17,
   "id": "7610d1b5",
   "metadata": {},
   "outputs": [
    {
     "data": {
      "text/html": [
       "<div>\n",
       "<style scoped>\n",
       "    .dataframe tbody tr th:only-of-type {\n",
       "        vertical-align: middle;\n",
       "    }\n",
       "\n",
       "    .dataframe tbody tr th {\n",
       "        vertical-align: top;\n",
       "    }\n",
       "\n",
       "    .dataframe thead th {\n",
       "        text-align: right;\n",
       "    }\n",
       "</style>\n",
       "<table border=\"1\" class=\"dataframe\">\n",
       "  <thead>\n",
       "    <tr style=\"text-align: right;\">\n",
       "      <th></th>\n",
       "      <th>Description</th>\n",
       "      <th>Frequency</th>\n",
       "      <th>Other Formats</th>\n",
       "      <th>LastUpdated</th>\n",
       "      <th>DataArchive</th>\n",
       "      <th>ArchiveUpdated</th>\n",
       "    </tr>\n",
       "  </thead>\n",
       "  <tbody>\n",
       "    <tr>\n",
       "      <th>0</th>\n",
       "      <td>Advance Release Calendar</td>\n",
       "      <td></td>\n",
       "      <td></td>\n",
       "      <td></td>\n",
       "      <td></td>\n",
       "      <td></td>\n",
       "    </tr>\n",
       "    <tr>\n",
       "      <th>1</th>\n",
       "      <td>Notice Board</td>\n",
       "      <td>When Required</td>\n",
       "      <td></td>\n",
       "      <td></td>\n",
       "      <td></td>\n",
       "      <td></td>\n",
       "    </tr>\n",
       "    <tr>\n",
       "      <th>2</th>\n",
       "      <td>Statistical Publications</td>\n",
       "      <td>As per Publications</td>\n",
       "      <td></td>\n",
       "      <td></td>\n",
       "      <td></td>\n",
       "      <td></td>\n",
       "    </tr>\n",
       "    <tr>\n",
       "      <th>3</th>\n",
       "      <td>Monetary Policy Compendium</td>\n",
       "      <td></td>\n",
       "      <td></td>\n",
       "      <td>Sep 20,2021</td>\n",
       "      <td></td>\n",
       "      <td></td>\n",
       "    </tr>\n",
       "    <tr>\n",
       "      <th>4</th>\n",
       "      <td>Gross Domestic Product of Pakistan</td>\n",
       "      <td>Annual</td>\n",
       "      <td>Excel</td>\n",
       "      <td>May31, 2021</td>\n",
       "      <td></td>\n",
       "      <td></td>\n",
       "    </tr>\n",
       "    <tr>\n",
       "      <th>5</th>\n",
       "      <td>SPI-Inflation</td>\n",
       "      <td>Weekly</td>\n",
       "      <td></td>\n",
       "      <td>Sep03, 2019</td>\n",
       "      <td></td>\n",
       "      <td></td>\n",
       "    </tr>\n",
       "    <tr>\n",
       "      <th>6</th>\n",
       "      <td>Inflation SnapshotOld Base: 2007-08 New Base: ...</td>\n",
       "      <td>Monthly</td>\n",
       "      <td></td>\n",
       "      <td>Nov 05, 2021</td>\n",
       "      <td></td>\n",
       "      <td></td>\n",
       "    </tr>\n",
       "    <tr>\n",
       "      <th>7</th>\n",
       "      <td>Price of Domestic Commodity</td>\n",
       "      <td>Weekly</td>\n",
       "      <td></td>\n",
       "      <td>Sep03, 2019</td>\n",
       "      <td></td>\n",
       "      <td></td>\n",
       "    </tr>\n",
       "    <tr>\n",
       "      <th>8</th>\n",
       "      <td>Production of Selected Large-scale Manufacturing</td>\n",
       "      <td>Monthly</td>\n",
       "      <td>Excel</td>\n",
       "      <td>Oct 18, 2021</td>\n",
       "      <td></td>\n",
       "      <td></td>\n",
       "    </tr>\n",
       "    <tr>\n",
       "      <th>9</th>\n",
       "      <td>Auction Result (Latest)of Chinese Yuan (CNY)Lo...</td>\n",
       "      <td></td>\n",
       "      <td></td>\n",
       "      <td>Dec04, 2013</td>\n",
       "      <td></td>\n",
       "      <td></td>\n",
       "    </tr>\n",
       "    <tr>\n",
       "      <th>10</th>\n",
       "      <td>Auction Tender for ChineseYuan (CNY) Loan Faci...</td>\n",
       "      <td></td>\n",
       "      <td></td>\n",
       "      <td>Oct31, 2013</td>\n",
       "      <td></td>\n",
       "      <td></td>\n",
       "    </tr>\n",
       "    <tr>\n",
       "      <th>11</th>\n",
       "      <td>Auction Tender Noticeof Fixed Rate Governmento...</td>\n",
       "      <td></td>\n",
       "      <td></td>\n",
       "      <td>Oct 29,2021</td>\n",
       "      <td></td>\n",
       "      <td></td>\n",
       "    </tr>\n",
       "    <tr>\n",
       "      <th>12</th>\n",
       "      <td>AuctionResult (Latest) of Saleof Fixed Rental ...</td>\n",
       "      <td></td>\n",
       "      <td></td>\n",
       "      <td></td>\n",
       "      <td></td>\n",
       "      <td></td>\n",
       "    </tr>\n",
       "    <tr>\n",
       "      <th>13</th>\n",
       "      <td>Ijara Sukuk - AuctionTender Notice of Governme...</td>\n",
       "      <td></td>\n",
       "      <td></td>\n",
       "      <td>Nov 09,2021</td>\n",
       "      <td></td>\n",
       "      <td></td>\n",
       "    </tr>\n",
       "    <tr>\n",
       "      <th>14</th>\n",
       "      <td>Ijara Sukuk GOP - AuctionResult (Latest)</td>\n",
       "      <td></td>\n",
       "      <td></td>\n",
       "      <td>Nov 11,2021</td>\n",
       "      <td></td>\n",
       "      <td></td>\n",
       "    </tr>\n",
       "    <tr>\n",
       "      <th>15</th>\n",
       "      <td>Interest Rate CorridorActivity Bank-Wise onQua...</td>\n",
       "      <td></td>\n",
       "      <td></td>\n",
       "      <td></td>\n",
       "      <td></td>\n",
       "      <td></td>\n",
       "    </tr>\n",
       "    <tr>\n",
       "      <th>16</th>\n",
       "      <td>Interest Rate Corridorof SBP- History</td>\n",
       "      <td></td>\n",
       "      <td></td>\n",
       "      <td>Nov 11,  2021</td>\n",
       "      <td></td>\n",
       "      <td></td>\n",
       "    </tr>\n",
       "    <tr>\n",
       "      <th>17</th>\n",
       "      <td>Call Market Trading Volume</td>\n",
       "      <td></td>\n",
       "      <td></td>\n",
       "      <td>Nov 17,  2021</td>\n",
       "      <td>Archive</td>\n",
       "      <td>Nov 17,  2021</td>\n",
       "    </tr>\n",
       "    <tr>\n",
       "      <th>18</th>\n",
       "      <td>Market Treasury BillsAuction Bid Report</td>\n",
       "      <td></td>\n",
       "      <td></td>\n",
       "      <td>Nov17, 2021</td>\n",
       "      <td></td>\n",
       "      <td></td>\n",
       "    </tr>\n",
       "    <tr>\n",
       "      <th>19</th>\n",
       "      <td>Auction Calendar of MarketTreasury Bills</td>\n",
       "      <td></td>\n",
       "      <td></td>\n",
       "      <td>Oct29, 2021</td>\n",
       "      <td></td>\n",
       "      <td></td>\n",
       "    </tr>\n",
       "    <tr>\n",
       "      <th>20</th>\n",
       "      <td>Auction Result (latest)of Market Treasury Bills</td>\n",
       "      <td></td>\n",
       "      <td></td>\n",
       "      <td>Nov03, 2021</td>\n",
       "      <td>Archive</td>\n",
       "      <td>Nov05, 2021</td>\n",
       "    </tr>\n",
       "    <tr>\n",
       "      <th>21</th>\n",
       "      <td>OvernightRepo Rates</td>\n",
       "      <td></td>\n",
       "      <td></td>\n",
       "      <td>Nov 17,  2021</td>\n",
       "      <td>Archive</td>\n",
       "      <td>Nov 17,  2021</td>\n",
       "    </tr>\n",
       "    <tr>\n",
       "      <th>22</th>\n",
       "      <td>Open Market OperationHistory (Injection)</td>\n",
       "      <td></td>\n",
       "      <td></td>\n",
       "      <td>Nov 16,  2021</td>\n",
       "      <td></td>\n",
       "      <td></td>\n",
       "    </tr>\n",
       "    <tr>\n",
       "      <th>23</th>\n",
       "      <td>Open Market OperationHistory (Mop-Up)</td>\n",
       "      <td></td>\n",
       "      <td></td>\n",
       "      <td>Oct 21, 2021</td>\n",
       "      <td></td>\n",
       "      <td></td>\n",
       "    </tr>\n",
       "    <tr>\n",
       "      <th>24</th>\n",
       "      <td>Open Market Operations(OMO) Results of SBP</td>\n",
       "      <td></td>\n",
       "      <td></td>\n",
       "      <td>Nov 16,  2021</td>\n",
       "      <td></td>\n",
       "      <td></td>\n",
       "    </tr>\n",
       "    <tr>\n",
       "      <th>25</th>\n",
       "      <td>PIB Auction Bid Report</td>\n",
       "      <td></td>\n",
       "      <td></td>\n",
       "      <td>Oct 27,  2021</td>\n",
       "      <td></td>\n",
       "      <td></td>\n",
       "    </tr>\n",
       "    <tr>\n",
       "      <th>26</th>\n",
       "      <td>Auction Calendar of Governmentof Pakistan Inve...</td>\n",
       "      <td></td>\n",
       "      <td></td>\n",
       "      <td>Nov02, 2021</td>\n",
       "      <td></td>\n",
       "      <td></td>\n",
       "    </tr>\n",
       "    <tr>\n",
       "      <th>27</th>\n",
       "      <td>Pakistan Investment BondsAuction Results</td>\n",
       "      <td></td>\n",
       "      <td></td>\n",
       "      <td>Oct21, 2021</td>\n",
       "      <td>Archive</td>\n",
       "      <td>Oct28, 2021</td>\n",
       "    </tr>\n",
       "  </tbody>\n",
       "</table>\n",
       "</div>"
      ],
      "text/plain": [
       "                                          Description            Frequency  \\\n",
       "0                            Advance Release Calendar                        \n",
       "1                                        Notice Board        When Required   \n",
       "2                            Statistical Publications  As per Publications   \n",
       "3                          Monetary Policy Compendium                        \n",
       "4                  Gross Domestic Product of Pakistan               Annual   \n",
       "5                                       SPI-Inflation               Weekly   \n",
       "6   Inflation SnapshotOld Base: 2007-08 New Base: ...              Monthly   \n",
       "7                         Price of Domestic Commodity               Weekly   \n",
       "8    Production of Selected Large-scale Manufacturing              Monthly   \n",
       "9   Auction Result (Latest)of Chinese Yuan (CNY)Lo...                        \n",
       "10  Auction Tender for ChineseYuan (CNY) Loan Faci...                        \n",
       "11  Auction Tender Noticeof Fixed Rate Governmento...                        \n",
       "12  AuctionResult (Latest) of Saleof Fixed Rental ...                        \n",
       "13  Ijara Sukuk - AuctionTender Notice of Governme...                        \n",
       "14           Ijara Sukuk GOP - AuctionResult (Latest)                        \n",
       "15  Interest Rate CorridorActivity Bank-Wise onQua...                        \n",
       "16              Interest Rate Corridorof SBP- History                        \n",
       "17                         Call Market Trading Volume                        \n",
       "18            Market Treasury BillsAuction Bid Report                        \n",
       "19           Auction Calendar of MarketTreasury Bills                        \n",
       "20    Auction Result (latest)of Market Treasury Bills                        \n",
       "21                                OvernightRepo Rates                        \n",
       "22           Open Market OperationHistory (Injection)                        \n",
       "23              Open Market OperationHistory (Mop-Up)                        \n",
       "24         Open Market Operations(OMO) Results of SBP                        \n",
       "25                             PIB Auction Bid Report                        \n",
       "26  Auction Calendar of Governmentof Pakistan Inve...                        \n",
       "27           Pakistan Investment BondsAuction Results                        \n",
       "\n",
       "   Other Formats    LastUpdated DataArchive ArchiveUpdated  \n",
       "0                                                           \n",
       "1                                                           \n",
       "2                                                           \n",
       "3                   Sep 20,2021                             \n",
       "4          Excel    May31, 2021                             \n",
       "5                   Sep03, 2019                             \n",
       "6                  Nov 05, 2021                             \n",
       "7                   Sep03, 2019                             \n",
       "8          Excel   Oct 18, 2021                             \n",
       "9                   Dec04, 2013                             \n",
       "10                  Oct31, 2013                             \n",
       "11                  Oct 29,2021                             \n",
       "12                                                          \n",
       "13                  Nov 09,2021                             \n",
       "14                  Nov 11,2021                             \n",
       "15                                                          \n",
       "16                Nov 11,  2021                             \n",
       "17                Nov 17,  2021     Archive  Nov 17,  2021  \n",
       "18                  Nov17, 2021                             \n",
       "19                  Oct29, 2021                             \n",
       "20                  Nov03, 2021     Archive    Nov05, 2021  \n",
       "21                Nov 17,  2021     Archive  Nov 17,  2021  \n",
       "22                Nov 16,  2021                             \n",
       "23                 Oct 21, 2021                             \n",
       "24                Nov 16,  2021                             \n",
       "25                Oct 27,  2021                             \n",
       "26                  Nov02, 2021                             \n",
       "27                  Oct21, 2021     Archive    Oct28, 2021  "
      ]
     },
     "execution_count": 17,
     "metadata": {},
     "output_type": "execute_result"
    }
   ],
   "source": [
    "data"
   ]
  },
  {
   "cell_type": "code",
   "execution_count": null,
   "id": "360e404f",
   "metadata": {},
   "outputs": [],
   "source": []
  }
 ],
 "metadata": {
  "kernelspec": {
   "display_name": "Python 3",
   "language": "python",
   "name": "python3"
  },
  "language_info": {
   "codemirror_mode": {
    "name": "ipython",
    "version": 3
   },
   "file_extension": ".py",
   "mimetype": "text/x-python",
   "name": "python",
   "nbconvert_exporter": "python",
   "pygments_lexer": "ipython3",
   "version": "3.8.8"
  }
 },
 "nbformat": 4,
 "nbformat_minor": 5
}
